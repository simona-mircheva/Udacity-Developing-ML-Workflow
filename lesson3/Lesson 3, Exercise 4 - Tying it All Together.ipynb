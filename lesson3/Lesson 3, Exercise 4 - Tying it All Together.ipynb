{
 "cells": [
  {
   "cell_type": "markdown",
   "id": "84e356a1",
   "metadata": {},
   "source": [
    "# UDACITY Designing Your First Workflow - Tying it All Together"
   ]
  },
  {
   "cell_type": "markdown",
   "id": "28e7b94b",
   "metadata": {},
   "source": [
    "AWS is comprised of many services, and one of the main skills you'll develop as an ML Engineer working in AWS is in chaining these services together to accomplish specific data engineering goals. With Lambda, you've learned how to launch serverless jobs, and with Step Functions, you've learned how to create a workflow that chains jobs together. Now, you'll learn how to launch a Step Function using a Lambda job. "
   ]
  },
  {
   "cell_type": "markdown",
   "id": "76588515",
   "metadata": {},
   "source": [
    "Before starting this, it's important to highlight that this is not the only way to accomplish something like this. Multiple services integrate with Step Functions, and so it follows that there are multiple ways to launch Step Functions. These services, among others, include API Gateway, EventBridge, and even other Step Functions. "
   ]
  },
  {
   "cell_type": "markdown",
   "id": "2688604a",
   "metadata": {},
   "source": [
    "Your task is to create a new lambda function that will launch the state machine you created in the **last exercise**. You'll then launch this lambda function from the command line. To find the definition of the step function you've made, click into the step function and look for the definition under the 'Definition' tab. "
   ]
  },
  {
   "cell_type": "markdown",
   "id": "d227cb98",
   "metadata": {},
   "source": [
    "First, create a new Lambda role. Attach to this role the StepFunctionsFullAccess policy. Then create a new lambda function under the default template, and attach this new role to it. Use the starter code below to help you modify the lambda handler to accomplish your task. "
   ]
  },
  {
   "cell_type": "markdown",
   "id": "0f3ec04d",
   "metadata": {},
   "source": [
    "As Step Function cannot execute more than once with the same name, you must update the definition with a new name. You can find the existing definition of a Step Function in the AWS Console under 'Step Functions'. In the lambda function code below, update the 'definition' with the step function definition from your last exercise, with the only difference being the, step fucntion name, processing-job name and the training-job name. "
   ]
  },
  {
   "cell_type": "markdown",
   "id": "6253aa02",
   "metadata": {},
   "source": [
    "## Exercise: Create the Lambda Function"
   ]
  },
  {
   "cell_type": "code",
   "execution_count": 1,
   "id": "20ffaefd",
   "metadata": {},
   "outputs": [],
   "source": [
    "import json\n",
    "import boto3\n",
    "import time\n",
    "\n",
    "client = boto3.client('stepfunctions')\n",
    "\n",
    "# todo, copy the definition from the last exercise and paste it below. \n",
    "# Also change the names of step function, training job and processing job. \n",
    "definition = \"\"\"{\n",
    "  \"StartAt\": \"SageMaker pre-processing step\",\n",
    "  \"States\": {\n",
    "    \"SageMaker pre-processing step\": {\n",
    "      \"Resource\": \"arn:aws:states:::sagemaker:createProcessingJob.sync\",\n",
    "      \"Parameters\": {\n",
    "        \"ProcessingJobName\": \"preprocessing-step-2022\",\n",
    "        \"ProcessingInputs\": [\n",
    "          {\n",
    "            \"InputName\": \"input-1\",\n",
    "            \"AppManaged\": false,\n",
    "            \"S3Input\": {\n",
    "              \"S3Uri\": \"s3://udacity-ml-workflow/lambda/reviews_Musical_Instruments_5.json.zip\",\n",
    "              \"LocalPath\": \"/opt/ml/processing/input\",\n",
    "              \"S3DataType\": \"S3Prefix\",\n",
    "              \"S3InputMode\": \"File\",\n",
    "              \"S3DataDistributionType\": \"FullyReplicated\",\n",
    "              \"S3CompressionType\": \"None\"\n",
    "            }\n",
    "          },\n",
    "          {\n",
    "            \"InputName\": \"code\",\n",
    "            \"AppManaged\": false,\n",
    "            \"S3Input\": {\n",
    "              \"S3Uri\": \"s3://udacity-ml-workflow/lambda/HelloBlazePreprocess.py\",\n",
    "              \"LocalPath\": \"/opt/ml/processing/input/code\",\n",
    "              \"S3DataType\": \"S3Prefix\",\n",
    "              \"S3InputMode\": \"File\",\n",
    "              \"S3DataDistributionType\": \"FullyReplicated\",\n",
    "              \"S3CompressionType\": \"None\"\n",
    "            }\n",
    "          }\n",
    "        ],\n",
    "        \"ProcessingOutputConfig\": {\n",
    "          \"Outputs\": [\n",
    "            {\n",
    "              \"OutputName\": \"train_data\",\n",
    "              \"AppManaged\": false,\n",
    "              \"S3Output\": {\n",
    "                \"S3Uri\": \"s3://sagemaker-us-west-2-565094796913/hello_blaze_train_scikit\",\n",
    "                \"LocalPath\": \"/opt/ml/processing/output/train\",\n",
    "                \"S3UploadMode\": \"EndOfJob\"\n",
    "              }\n",
    "            },\n",
    "            {\n",
    "              \"OutputName\": \"test_data\",\n",
    "              \"AppManaged\": false,\n",
    "              \"S3Output\": {\n",
    "                \"S3Uri\": \"s3://sagemaker-us-west-2-565094796913/hello_blaze_test_scikit\",\n",
    "                \"LocalPath\": \"/opt/ml/processing/output/test\",\n",
    "                \"S3UploadMode\": \"EndOfJob\"\n",
    "              }\n",
    "            }\n",
    "          ]\n",
    "        },\n",
    "        \"AppSpecification\": {\n",
    "          \"ImageUri\": \"246618743249.dkr.ecr.us-west-2.amazonaws.com/sagemaker-scikit-learn:0.20.0-cpu-py3\",\n",
    "          \"ContainerEntrypoint\": [\n",
    "            \"python3\",\n",
    "            \"/opt/ml/processing/input/code/HelloBlazePreprocess.py\"\n",
    "          ]\n",
    "        },\n",
    "        \"RoleArn\": \"arn:aws:iam::565094796913:role/execution_role\",\n",
    "        \"ProcessingResources\": {\n",
    "          \"ClusterConfig\": {\n",
    "            \"InstanceCount\": 1,\n",
    "            \"InstanceType\": \"ml.m5.large\",\n",
    "            \"VolumeSizeInGB\": 30\n",
    "          }\n",
    "        }\n",
    "      },\n",
    "      \"Type\": \"Task\",\n",
    "      \"Next\": \"SageMaker Training Step\"\n",
    "    },\n",
    "    \"SageMaker Training Step\": {\n",
    "      \"Resource\": \"arn:aws:states:::sagemaker:createTrainingJob.sync\",\n",
    "      \"Parameters\": {\n",
    "        \"AlgorithmSpecification\": {\n",
    "          \"TrainingImage\": \"433757028032.dkr.ecr.us-west-2.amazonaws.com/blazingtext:1\",\n",
    "          \"TrainingInputMode\": \"File\"\n",
    "        },\n",
    "        \"OutputDataConfig\": {\n",
    "          \"S3OutputPath\": \"s3://udacity-sagemaker-solutiondata2021/l3e3/workflow_output\"\n",
    "        },\n",
    "        \"StoppingCondition\": {\n",
    "          \"MaxRuntimeInSeconds\": 360000\n",
    "        },\n",
    "        \"ResourceConfig\": {\n",
    "          \"InstanceCount\": 1,\n",
    "          \"InstanceType\": \"ml.m5.large\",\n",
    "          \"VolumeSizeInGB\": 30\n",
    "        },\n",
    "        \"RoleArn\": \"arn:aws:iam::934110659707:role/service-role/AmazonSageMaker-ExecutionRole-20220111T121707\",\n",
    "        \"InputDataConfig\": [\n",
    "          {\n",
    "            \"DataSource\": {\n",
    "              \"S3DataSource\": {\n",
    "                \"S3DataType\": \"S3Prefix\",\n",
    "                \"S3Uri\": \"s3://sagemaker-us-west-2-565094796913/hello_blaze_train_scikit\",\n",
    "                \"S3DataDistributionType\": \"FullyReplicated\"\n",
    "              }\n",
    "            },\n",
    "            \"ContentType\": \"text/plain\",\n",
    "            \"ChannelName\": \"train\"\n",
    "          },\n",
    "          {\n",
    "            \"DataSource\": {\n",
    "              \"S3DataSource\": {\n",
    "                \"S3DataType\": \"S3Prefix\",\n",
    "                \"S3Uri\": \"s3://sagemaker-us-west-2-565094796913/hello_blaze_test_scikit\",\n",
    "                \"S3DataDistributionType\": \"FullyReplicated\"\n",
    "              }\n",
    "            },\n",
    "            \"ContentType\": \"text/plain\",\n",
    "            \"ChannelName\": \"validation\"\n",
    "          }\n",
    "        ],\n",
    "        \"HyperParameters\": {\n",
    "          \"mode\": \"supervised\"\n",
    "        },\n",
    "        \"TrainingJobName\": \"training\"\n",
    "      },\n",
    "      \"Type\": \"Task\",\n",
    "      \"End\": true\n",
    "    }\n",
    "  }\n",
    "}\n",
    "\n",
    "\"\"\"\n",
    "\n",
    "def lambda_handler(event, context):\n",
    "    #todo \n",
    "    client.update_state_machine(definition=definition, stateMachineArn='arn:aws:iam::934110659707:role/service-role/AmazonSageMaker-ExecutionRole-20220111T121707') \n",
    "    # Give AWS time to register the defintion\n",
    "    time.sleep(5)\n",
    "    #todo\n",
    "    client.start_execution(input='{}', name='lambda-123', stateMachineArn='arn:aws:iam::934110659707:role/service-role/AmazonSageMaker-ExecutionRole-20220111T121707') \n",
    "    \n",
    "    return {\n",
    "        'statusCode': 200,\n",
    "        'body': 'The step function has successfully launched!'\n",
    "    }\n"
   ]
  },
  {
   "cell_type": "markdown",
   "id": "fca4d47b",
   "metadata": {},
   "source": [
    "## Exercise: Launch the Lambda Function\n"
   ]
  },
  {
   "cell_type": "markdown",
   "id": "68489fdd",
   "metadata": {},
   "source": [
    "Launch the lambda function and confirm the step function is created successfully."
   ]
  },
  {
   "cell_type": "markdown",
   "id": "61e5bdee",
   "metadata": {},
   "source": [
    "## Conceptual Exercise: What are next steps? "
   ]
  },
  {
   "cell_type": "markdown",
   "id": "d39b68b1",
   "metadata": {},
   "source": [
    "Right now, the Step Function that we made in the prior exercise has a hard-coded location of the dataset we input, as well as all of the locations of the intermediary steps. What are ways that you could modify the Step Function to make it more generalizable? If you could input an S3 location, how could you integrate it with Lambda so that it could asychronously be called? "
   ]
  }
 ],
 "metadata": {
  "kernelspec": {
   "display_name": "conda_python3",
   "language": "python",
   "name": "conda_python3"
  },
  "language_info": {
   "codemirror_mode": {
    "name": "ipython",
    "version": 3
   },
   "file_extension": ".py",
   "mimetype": "text/x-python",
   "name": "python",
   "nbconvert_exporter": "python",
   "pygments_lexer": "ipython3",
   "version": "3.6.13"
  }
 },
 "nbformat": 4,
 "nbformat_minor": 5
}
