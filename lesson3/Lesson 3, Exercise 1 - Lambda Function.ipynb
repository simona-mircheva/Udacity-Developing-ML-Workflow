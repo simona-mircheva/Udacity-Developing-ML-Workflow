{
 "cells": [
  {
   "cell_type": "markdown",
   "id": "9213d171",
   "metadata": {},
   "source": [
    "## Exercise Solution: Example Lambda Test Event"
   ]
  },
  {
   "cell_type": "code",
   "execution_count": 1,
   "id": "9efff689",
   "metadata": {},
   "outputs": [
    {
     "data": {
      "text/plain": [
       "{'s3UriKey': 'udacity-sagemaker-solutiondata2021/l3e1/reviews_Musical_Instruments_5.json.zip'}"
      ]
     },
     "execution_count": 1,
     "metadata": {},
     "output_type": "execute_result"
    }
   ],
   "source": [
    "{\n",
    "  \"s3UriKey\": \"udacity-sagemaker-solutiondata2021/l3e1/reviews_Musical_Instruments_5.json.zip\"\n",
    "}"
   ]
  },
  {
   "cell_type": "markdown",
   "id": "600085e2",
   "metadata": {},
   "source": [
    "## Exercise Solution: Example Lambda Handler"
   ]
  },
  {
   "cell_type": "code",
   "execution_count": 3,
   "id": "010950e0",
   "metadata": {},
   "outputs": [],
   "source": [
    "import json\n",
    "import hello_preprocess\n",
    "\n",
    "def lambda_handler(event, context):\n",
    "    # TODO implement\n",
    "    hello_preprocess.preprocess(event['s3UriKey'])\n",
    "    return {\n",
    "        'statusCode': 200,\n",
    "        'body': json.dumps('Hello from Lambda!')\n",
    "    }"
   ]
  },
  {
   "cell_type": "code",
   "execution_count": null,
   "id": "6da06b33",
   "metadata": {},
   "outputs": [],
   "source": []
  }
 ],
 "metadata": {
  "kernelspec": {
   "display_name": "Python 3 (ipykernel)",
   "language": "python",
   "name": "python3"
  },
  "language_info": {
   "codemirror_mode": {
    "name": "ipython",
    "version": 3
   },
   "file_extension": ".py",
   "mimetype": "text/x-python",
   "name": "python",
   "nbconvert_exporter": "python",
   "pygments_lexer": "ipython3",
   "version": "3.9.7"
  }
 },
 "nbformat": 4,
 "nbformat_minor": 5
}
